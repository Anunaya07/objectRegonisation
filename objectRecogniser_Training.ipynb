{
 "cells": [
  {
   "cell_type": "code",
   "execution_count": 1,
   "id": "f9211c26",
   "metadata": {},
   "outputs": [],
   "source": [
    "import tensorflow as tf\n",
    "from keras.utils import np_utils\n",
    "from matplotlib import pyplot as plt\n",
    "import numpy as np"
   ]
  },
  {
   "cell_type": "code",
   "execution_count": 3,
   "id": "3478c1ec",
   "metadata": {},
   "outputs": [
    {
     "name": "stdout",
     "output_type": "stream",
     "text": [
      "Downloading data from https://www.cs.toronto.edu/~kriz/cifar-10-python.tar.gz\n",
      "170500096/170498071 [==============================] - 153s 1us/step\n",
      "170508288/170498071 [==============================] - 153s 1us/step\n"
     ]
    }
   ],
   "source": [
    "import ssl\n",
    "ssl._create_default_https_context = ssl._create_unverified_context\n",
    "(X_train, y_train), (X_test,y_test) = tf.keras.datasets.cifar10.load_data()"
   ]
  },
  {
   "cell_type": "code",
   "execution_count": 4,
   "id": "b96ff0bd",
   "metadata": {},
   "outputs": [
    {
     "name": "stdout",
     "output_type": "stream",
     "text": [
      "Training images; (50000, 32, 32, 3)\n"
     ]
    }
   ],
   "source": [
    "print('Training images; {}'.format(X_train.shape))"
   ]
  },
  {
   "cell_type": "code",
   "execution_count": 6,
   "id": "a15b6858",
   "metadata": {},
   "outputs": [
    {
     "name": "stdout",
     "output_type": "stream",
     "text": [
      "Shape before one-hot encoding: (50000, 1)\n",
      "Shapeafter one-hot encoding: (50000, 10)\n"
     ]
    }
   ],
   "source": [
    "X_train = X_train.reshape(X_train.shape[0],32,32,3)\n",
    "X_test= X_test.reshape(X_test.shape[0],32,32,3)\n",
    "X_train = X_train.astype('float32')\n",
    "X_test = X_test.astype('float32')\n",
    "\n",
    "\n",
    "X_train= X_train/255\n",
    "X_test =  X_test/255\n",
    "n_classes= 10\n",
    "\n",
    "\n",
    "print(\"Shape before one-hot encoding:\", y_train.shape)\n",
    "Y_train = np_utils.to_categorical(y_train, n_classes)\n",
    "Y_test =  np_utils.to_categorical(y_test, n_classes)\n",
    "print(\"Shapeafter one-hot encoding:\", Y_train.shape)"
   ]
  },
  {
   "cell_type": "code",
   "execution_count": 8,
   "id": "7165720b",
   "metadata": {},
   "outputs": [],
   "source": [
    "from keras.models import Sequential\n",
    "from keras.layers import Dense, Dropout , Conv2D, MaxPool2D, Flatten"
   ]
  },
  {
   "cell_type": "code",
   "execution_count": 14,
   "id": "bbf74335",
   "metadata": {},
   "outputs": [],
   "source": [
    "model = Sequential()\n",
    "model.add(Conv2D(50, kernel_size=(3,3), strides=(1,1), padding='same', activation='relu', input_shape=(32,32,3)))\n",
    "\n",
    "model.add(Conv2D(75, kernel_size=(3,3), strides=(1,1), padding='same', activation='relu'))\n",
    "model.add(MaxPool2D(pool_size=(2,2)))\n",
    "model.add(Dropout(0.25))\n",
    "\n",
    "model.add(Conv2D(125, kernel_size=(3,3), strides=(1,1), padding='same', activation='relu'))\n",
    "model.add(MaxPool2D(pool_size=(2,2)))\n",
    "model.add(Dropout(0.25))\n",
    "\n",
    "model.add(Flatten())"
   ]
  },
  {
   "cell_type": "code",
   "execution_count": 15,
   "id": "9c379fbc",
   "metadata": {},
   "outputs": [],
   "source": [
    "model.add(Dense(500, activation='relu'))\n",
    "model.add(Dropout(0.4))\n",
    "model.add(Dense(250,activation='relu'))\n",
    "model.add(Dropout(0.3))\n",
    "model.add(Dense(10,activation='softmax'))"
   ]
  },
  {
   "cell_type": "code",
   "execution_count": 16,
   "id": "cae76fe8",
   "metadata": {},
   "outputs": [],
   "source": [
    "model.compile(loss='categorical_crossentropy', metrics=['accuracy'], optimizer='adam')"
   ]
  },
  {
   "cell_type": "code",
   "execution_count": 17,
   "id": "63822291",
   "metadata": {},
   "outputs": [
    {
     "name": "stdout",
     "output_type": "stream",
     "text": [
      "Epoch 1/20\n",
      "391/391 [==============================] - 233s 594ms/step - loss: 2.3030 - accuracy: 0.0980 - val_loss: 2.3026 - val_accuracy: 0.1000\n",
      "Epoch 2/20\n",
      "391/391 [==============================] - 245s 626ms/step - loss: 2.3027 - accuracy: 0.0983 - val_loss: 2.3026 - val_accuracy: 0.1000\n",
      "Epoch 3/20\n",
      "391/391 [==============================] - 208s 532ms/step - loss: 2.3027 - accuracy: 0.0970 - val_loss: 2.3026 - val_accuracy: 0.1000\n",
      "Epoch 4/20\n",
      "391/391 [==============================] - 205s 525ms/step - loss: 2.3027 - accuracy: 0.0984 - val_loss: 2.3026 - val_accuracy: 0.1000\n",
      "Epoch 5/20\n",
      "391/391 [==============================] - 204s 522ms/step - loss: 2.3027 - accuracy: 0.1002 - val_loss: 2.3026 - val_accuracy: 0.1000\n",
      "Epoch 6/20\n",
      "391/391 [==============================] - 207s 530ms/step - loss: 2.3027 - accuracy: 0.0981 - val_loss: 2.3026 - val_accuracy: 0.1000\n",
      "Epoch 7/20\n",
      "391/391 [==============================] - 205s 524ms/step - loss: 2.3027 - accuracy: 0.0988 - val_loss: 2.3026 - val_accuracy: 0.1000\n",
      "Epoch 8/20\n",
      "391/391 [==============================] - 193s 495ms/step - loss: 2.3027 - accuracy: 0.0975 - val_loss: 2.3026 - val_accuracy: 0.1000\n",
      "Epoch 9/20\n",
      "391/391 [==============================] - 172s 439ms/step - loss: 2.3027 - accuracy: 0.0971 - val_loss: 2.3026 - val_accuracy: 0.1000\n",
      "Epoch 10/20\n",
      "391/391 [==============================] - 169s 432ms/step - loss: 2.3027 - accuracy: 0.0973 - val_loss: 2.3026 - val_accuracy: 0.1000\n",
      "Epoch 11/20\n",
      "391/391 [==============================] - 167s 428ms/step - loss: 2.3027 - accuracy: 0.0958 - val_loss: 2.3026 - val_accuracy: 0.1000\n",
      "Epoch 12/20\n",
      "391/391 [==============================] - 188s 481ms/step - loss: 2.3027 - accuracy: 0.0987 - val_loss: 2.3026 - val_accuracy: 0.1000\n",
      "Epoch 13/20\n",
      "391/391 [==============================] - 175s 448ms/step - loss: 2.3027 - accuracy: 0.0959 - val_loss: 2.3026 - val_accuracy: 0.1000\n",
      "Epoch 14/20\n",
      "391/391 [==============================] - 204s 521ms/step - loss: 2.3027 - accuracy: 0.0990 - val_loss: 2.3026 - val_accuracy: 0.1000\n",
      "Epoch 15/20\n",
      "391/391 [==============================] - 187s 479ms/step - loss: 2.3027 - accuracy: 0.0975 - val_loss: 2.3026 - val_accuracy: 0.1000\n",
      "Epoch 16/20\n",
      "391/391 [==============================] - 180s 461ms/step - loss: 2.3027 - accuracy: 0.0979 - val_loss: 2.3026 - val_accuracy: 0.1000\n",
      "Epoch 17/20\n",
      "391/391 [==============================] - 169s 432ms/step - loss: 2.3027 - accuracy: 0.0985 - val_loss: 2.3026 - val_accuracy: 0.1000\n",
      "Epoch 18/20\n",
      "391/391 [==============================] - 196s 502ms/step - loss: 2.3027 - accuracy: 0.0970 - val_loss: 2.3026 - val_accuracy: 0.1000\n",
      "Epoch 19/20\n",
      "391/391 [==============================] - 182s 465ms/step - loss: 2.3027 - accuracy: 0.0981 - val_loss: 2.3026 - val_accuracy: 0.1000\n",
      "Epoch 20/20\n",
      "391/391 [==============================] - 166s 424ms/step - loss: 2.3027 - accuracy: 0.0979 - val_loss: 2.3026 - val_accuracy: 0.1000\n"
     ]
    },
    {
     "data": {
      "text/plain": [
       "<keras.callbacks.History at 0x20edfe5cc10>"
      ]
     },
     "execution_count": 17,
     "metadata": {},
     "output_type": "execute_result"
    }
   ],
   "source": [
    "model.fit(X_train,Y_train, batch_size=128, epochs=20, validation_data=(X_test,Y_test))"
   ]
  },
  {
   "cell_type": "code",
   "execution_count": 21,
   "id": "f2ee9454",
   "metadata": {},
   "outputs": [
    {
     "name": "stdout",
     "output_type": "stream",
     "text": [
      "1/1 [==============================] - 0s 25ms/step\n",
      "[[0.09982232 0.10078394 0.0999964  0.10029573 0.10047389 0.09909279\n",
      "  0.10000847 0.1004641  0.10005557 0.09900681]\n",
      " [0.09982232 0.10078394 0.0999964  0.10029573 0.10047389 0.09909279\n",
      "  0.10000847 0.1004641  0.10005557 0.09900681]\n",
      " [0.09982232 0.10078394 0.0999964  0.10029573 0.10047389 0.09909279\n",
      "  0.10000847 0.1004641  0.10005557 0.09900681]\n",
      " [0.09982232 0.10078394 0.0999964  0.10029573 0.10047389 0.09909279\n",
      "  0.10000847 0.1004641  0.10005557 0.09900681]\n",
      " [0.09982232 0.10078394 0.0999964  0.10029573 0.10047389 0.09909279\n",
      "  0.10000847 0.1004641  0.10005557 0.09900681]\n",
      " [0.09982232 0.10078394 0.0999964  0.10029573 0.10047389 0.09909279\n",
      "  0.10000847 0.1004641  0.10005557 0.09900681]\n",
      " [0.09982232 0.10078394 0.0999964  0.10029573 0.10047389 0.09909279\n",
      "  0.10000847 0.1004641  0.10005557 0.09900681]\n",
      " [0.09982232 0.10078394 0.0999964  0.10029573 0.10047389 0.09909279\n",
      "  0.10000847 0.1004641  0.10005557 0.09900681]\n",
      " [0.09982232 0.10078394 0.0999964  0.10029573 0.10047389 0.09909279\n",
      "  0.10000847 0.1004641  0.10005557 0.09900681]]\n",
      "[1 1 1 1 1 1 1 1 1]\n"
     ]
    }
   ],
   "source": [
    "classes = range(0,10)\n",
    "\n",
    "names =['airplane', 'automobile', 'bird', 'cat', 'deer', 'dog', 'frog', 'horse','ship', 'truck']\n",
    "\n",
    "class_labels = dict(zip(classes, names))\n",
    "\n",
    "batch = X_test[100:109]\n",
    "labels = np.argmax(Y_test[100:109], axis=-1)\n",
    "\n",
    "prediction = model.predict(batch, verbose= 1)\n",
    "\n",
    "print(prediction)\n",
    "\n",
    "class_result = np.argmax(prediction, axis = -1)\n",
    "print(class_result)\n"
   ]
  },
  {
   "cell_type": "code",
   "execution_count": 29,
   "id": "049a075e",
   "metadata": {},
   "outputs": [
    {
     "data": {
      "image/png": "[encoded data removed]",
      "text/plain": [
       "<Figure size 1368x432 with 9 Axes>"
      ]
     },
     "metadata": {
      "needs_background": "light"
     },
     "output_type": "display_data"
    }
   ],
   "source": [
    "fig, axs = plt.subplots(3,3,figsize=(19,6))\n",
    "fig.subplots_adjust(hspace = 1)\n",
    "axs = axs.flatten()\n",
    "\n",
    "for i, img in enumerate(batch):\n",
    "    for key, value in class_labels.items():\n",
    "         if class_result[i] == key:\n",
    "                 title = 'Prediction: {}\\nActual: {}'.format(class_labels[key], class_labels[labels[i]])\n",
    "                 axs[i].set_title(title)\n",
    "                 axs[i].axes.get_xaxis().set_visible(False)\n",
    "                 axs[i].axes.get_yaxis().set_visible(False)\n",
    "    axs[i].imshow(img)\n",
    "    \n",
    "plt.show()"
   ]
  },
  {
   "cell_type": "code",
   "execution_count": 30,
   "id": "3656739d",
   "metadata": {},
   "outputs": [
    {
     "name": "stdout",
     "output_type": "stream",
     "text": [
      "INFO:tensorflow:Assets written to: objectRecogniser\\assets\n"
     ]
    }
   ],
   "source": [
    "model.save('objectRecogniser')"
   ]
  },
  {
   "cell_type": "code",
   "execution_count": null,
   "id": "0102c64d",
   "metadata": {},
   "outputs": [],
   "source": []
  }
 ],
 "metadata": {
  "kernelspec": {
   "display_name": "Python 3 (ipykernel)",
   "language": "python",
   "name": "python3"
  },
  "language_info": {
   "codemirror_mode": {
    "name": "ipython",
    "version": 3
   },
   "file_extension": ".py",
   "mimetype": "text/x-python",
   "name": "python",
   "nbconvert_exporter": "python",
   "pygments_lexer": "ipython3",
   "version": "3.9.7"
  }
 },
 "nbformat": 4,
 "nbformat_minor": 5
}
